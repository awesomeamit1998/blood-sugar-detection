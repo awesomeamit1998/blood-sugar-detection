# blood-sugar-detection
#detecting blood sugar in a patient
from sklearn.linear_model import LinearRegression
import pandas as pd
from numpy import genfromtxt, array

dataset = genfromtxt("diabetes.csv", delimiter=",")

'''
some libraries, such as scikit-learn, may require that a one-dimensional array of output variables (y) be shaped as a two-dimensional array with one column and outcomes for each column.

Some algorithms, like the Long Short-Term Memory recurrent neural network in Keras, require input to be specified as a three-dimensional array comprised of samples, timesteps, and features.

It is important to know how to reshape your NumPy arrays so that your data meets the expectation of specific Python libraries.
'''
X = dataset[:,0].reshape(-1, 1)
y = dataset[:,1].reshape(-1, 1)

dataset[:,0].shape
model = LinearRegression()
model = model.fit(X,y)


predictions = model.predict(X)
print(predictions[0:6])


print(model.score(X,y)*100)
print('Model best y-intercept i.e c in y=mx + c : ',model.intercept_)
print('Model best slope i.e m in y=mx + c : ',model.coef_)

print('Test sample output : ', model.predict([[20]]))
